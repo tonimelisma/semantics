{
 "cells": [
  {
   "cell_type": "code",
   "execution_count": 6,
   "metadata": {},
   "outputs": [
    {
     "name": "stderr",
     "output_type": "stream",
     "text": [
      "Loading pipeline components...: 100%|██████████| 7/7 [00:01<00:00,  6.84it/s]\n",
      "100%|██████████| 50/50 [05:12<00:00,  6.25s/it]\n"
     ]
    }
   ],
   "source": [
    "from diffusers import DiffusionPipeline\n",
    "import torch\n",
    "\n",
    "mps_device = torch.device(\"mps\")\n",
    "\n",
    "pipe = DiffusionPipeline.from_pretrained(\n",
    "    \"stabilityai/stable-diffusion-xl-base-1.0\",\n",
    "    torch_dtype=torch.float16,\n",
    "    use_safetensors=True,\n",
    "    variant=\"fp16\",\n",
    ")\n",
    "pipe.to(mps_device)\n",
    "\n",
    "# if using torch < 2.0\n",
    "# pipe.enable_xformers_memory_efficient_attention()\n",
    "\n",
    "prompt = \"Stunning digital art of California redwoods\"\n",
    "\n",
    "images = pipe(prompt=prompt).images[0]"
   ]
  },
  {
   "cell_type": "code",
   "execution_count": 7,
   "metadata": {},
   "outputs": [
    {
     "name": "stdout",
     "output_type": "stream",
     "text": [
      "Image saved to generated_images/2023-10-14T19-53-10_Stunning_digital_art_of_California_redwoods.png\n"
     ]
    }
   ],
   "source": [
    "import os\n",
    "from datetime import datetime\n",
    "\n",
    "subdir = \"generated_images\"\n",
    "if not os.path.exists(subdir):\n",
    "    os.makedirs(subdir)\n",
    "\n",
    "current_time = datetime.now().strftime(\"%Y-%m-%dT%H-%M-%S\")\n",
    "shortened_prompt = prompt[:80].replace(\" \", \"_\").replace(\"/\", \"-\")\n",
    "filename = f\"{current_time}_{shortened_prompt}.png\"\n",
    "\n",
    "# Save the image\n",
    "image_path = os.path.join(subdir, filename)\n",
    "images.save(image_path)\n",
    "\n",
    "print(f\"Image saved to {image_path}\")"
   ]
  },
  {
   "cell_type": "code",
   "execution_count": null,
   "metadata": {},
   "outputs": [],
   "source": []
  }
 ],
 "metadata": {
  "kernelspec": {
   "display_name": "Python 3",
   "language": "python",
   "name": "python3"
  },
  "language_info": {
   "codemirror_mode": {
    "name": "ipython",
    "version": 3
   },
   "file_extension": ".py",
   "mimetype": "text/x-python",
   "name": "python",
   "nbconvert_exporter": "python",
   "pygments_lexer": "ipython3",
   "version": "3.11.6"
  }
 },
 "nbformat": 4,
 "nbformat_minor": 2
}
