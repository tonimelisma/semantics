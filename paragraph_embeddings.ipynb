{
 "cells": [
  {
   "cell_type": "code",
   "execution_count": 1,
   "metadata": {},
   "outputs": [],
   "source": [
    "from gensim.models import Doc2Vec\n",
    "from gensim.models.doc2vec import TaggedDocument\n",
    "from sklearn.metrics.pairwise import cosine_similarity\n",
    "import numpy as np\n",
    "\n",
    "# Sample paragraphs\n",
    "paragraphs = [\n",
    "    \"Dog and cat are common house pets.\",\n",
    "    \"Computer programming involves coding.\",\n",
    "    \"Sports like soccer and basketball are popular.\",\n",
    "    \"Music genres include rock and classical.\",\n",
    "    \"Baking bread requires yeast and flour.\"\n",
    "]"
   ]
  },
  {
   "cell_type": "code",
   "execution_count": 2,
   "metadata": {},
   "outputs": [],
   "source": [
    "tagged_data = [TaggedDocument(words=paragraph.split(), tags=[str(i)]) for i, paragraph in enumerate(paragraphs)]"
   ]
  },
  {
   "cell_type": "code",
   "execution_count": 3,
   "metadata": {},
   "outputs": [],
   "source": [
    "# Initialize the model\n",
    "model = Doc2Vec(vector_size=20, window=2, min_count=1, workers=4, epochs=100)\n",
    "\n",
    "# Build the vocabulary\n",
    "model.build_vocab(tagged_data)\n",
    "\n",
    "# Train the model\n",
    "model.train(tagged_data, total_examples=model.corpus_count, epochs=model.epochs)"
   ]
  },
  {
   "cell_type": "code",
   "execution_count": 4,
   "metadata": {},
   "outputs": [],
   "source": [
    "paragraph_vectors = [model.infer_vector(paragraph.split()) for paragraph in paragraphs]"
   ]
  },
  {
   "cell_type": "code",
   "execution_count": 5,
   "metadata": {},
   "outputs": [],
   "source": [
    "# Convert list to numpy array for compatibility\n",
    "paragraph_vectors = np.array(paragraph_vectors)\n",
    "\n",
    "# Compute the similarity matrix\n",
    "similarity_matrix = cosine_similarity(paragraph_vectors)"
   ]
  },
  {
   "cell_type": "code",
   "execution_count": null,
   "metadata": {},
   "outputs": [],
   "source": [
    "# Print the similarity matrix with associated paragraphs\n",
    "print(\"Similarity Matrix:\")\n",
    "for i in range(len(paragraphs)):\n",
    "    for j in range(len(paragraphs)):\n",
    "        if i != j:\n",
    "            print(f\"Similarity between:\")\n",
    "            print(f\"  Paragraph {i + 1}: {paragraphs[i]}\")\n",
    "            print(f\"  Paragraph {j + 1}: {paragraphs[j]}\")\n",
    "            print(f\"  Score: {similarity_matrix[i][j]:.4f}\")\n",
    "            print(\"----\")"
   ]
  }
 ],
 "metadata": {
  "kernelspec": {
   "display_name": "Python 3",
   "language": "python",
   "name": "python3"
  },
  "language_info": {
   "codemirror_mode": {
    "name": "ipython",
    "version": 3
   },
   "file_extension": ".py",
   "mimetype": "text/x-python",
   "name": "python",
   "nbconvert_exporter": "python",
   "pygments_lexer": "ipython3",
   "version": "3.11.6"
  }
 },
 "nbformat": 4,
 "nbformat_minor": 2
}
