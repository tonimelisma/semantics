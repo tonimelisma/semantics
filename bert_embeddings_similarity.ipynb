{
 "cells": [
  {
   "cell_type": "code",
   "execution_count": 14,
   "metadata": {},
   "outputs": [],
   "source": [
    "from transformers import AutoTokenizer, AutoModel\n",
    "import torch\n",
    "import numpy as np"
   ]
  },
  {
   "cell_type": "code",
   "execution_count": 15,
   "metadata": {},
   "outputs": [
    {
     "name": "stderr",
     "output_type": "stream",
     "text": [
      "Some weights of the model checkpoint at bert-base-uncased were not used when initializing BertModel: ['cls.predictions.transform.dense.bias', 'cls.predictions.transform.LayerNorm.weight', 'cls.predictions.decoder.weight', 'cls.predictions.transform.dense.weight', 'cls.predictions.bias', 'cls.seq_relationship.weight', 'cls.seq_relationship.bias', 'cls.predictions.transform.LayerNorm.bias']\n",
      "- This IS expected if you are initializing BertModel from the checkpoint of a model trained on another task or with another architecture (e.g. initializing a BertForSequenceClassification model from a BertForPreTraining model).\n",
      "- This IS NOT expected if you are initializing BertModel from the checkpoint of a model that you expect to be exactly identical (initializing a BertForSequenceClassification model from a BertForSequenceClassification model).\n"
     ]
    }
   ],
   "source": [
    "tokenizer = AutoTokenizer.from_pretrained('bert-base-uncased')\n",
    "model = AutoModel.from_pretrained('bert-base-uncased')\n"
   ]
  },
  {
   "cell_type": "code",
   "execution_count": 16,
   "metadata": {},
   "outputs": [],
   "source": [
    "paragraphs = [\n",
    "    \"Dog and cat are common house pets.\",\n",
    "    \"Zoos have animals like zebras and wolves.\",\n",
    "    \"I had a great day today.\",\n",
    "    \"I really like animals a lot.\",\n",
    "    \"Gibberish afadadf affafa afafa.\"\n",
    "]"
   ]
  },
  {
   "cell_type": "code",
   "execution_count": 17,
   "metadata": {},
   "outputs": [],
   "source": [
    "paragraph_embeddings = []\n",
    "\n",
    "for paragraph in paragraphs:\n",
    "    tokens = tokenizer(paragraph, padding=True, truncation=True, return_tensors=\"pt\")\n",
    "    with torch.no_grad():\n",
    "        outputs = model(**tokens)\n",
    "        # Averaging the token embeddings to represent the whole sentence/paragraph\n",
    "        embedding = outputs.last_hidden_state.mean(dim=1).numpy()\n",
    "        paragraph_embeddings.append(embedding)\n",
    "        \n",
    "# Convert to numpy array\n",
    "paragraph_embeddings = np.vstack(paragraph_embeddings)"
   ]
  },
  {
   "cell_type": "code",
   "execution_count": 18,
   "metadata": {},
   "outputs": [],
   "source": [
    "from sklearn.metrics.pairwise import cosine_similarity\n",
    "\n",
    "similarity_matrix = cosine_similarity(paragraph_embeddings, paragraph_embeddings)\n"
   ]
  },
  {
   "cell_type": "code",
   "execution_count": 19,
   "metadata": {},
   "outputs": [
    {
     "name": "stdout",
     "output_type": "stream",
     "text": [
      "Similarity Matrix:\n",
      "Similarity between:\n",
      "  Paragraph 1: Dog and cat are common house pets.\n",
      "  Paragraph 2: Zoos have animals like zebras and wolves.\n",
      "  Score: 0.7456\n",
      "----\n",
      "Similarity between:\n",
      "  Paragraph 1: Dog and cat are common house pets.\n",
      "  Paragraph 3: I had a great day today.\n",
      "  Score: 0.5256\n",
      "----\n",
      "Similarity between:\n",
      "  Paragraph 1: Dog and cat are common house pets.\n",
      "  Paragraph 4: I really like animals a lot.\n",
      "  Score: 0.6068\n",
      "----\n",
      "Similarity between:\n",
      "  Paragraph 1: Dog and cat are common house pets.\n",
      "  Paragraph 5: Gibberish afadadf affafa afafa.\n",
      "  Score: 0.4532\n",
      "----\n",
      "Similarity between:\n",
      "  Paragraph 2: Zoos have animals like zebras and wolves.\n",
      "  Paragraph 1: Dog and cat are common house pets.\n",
      "  Score: 0.7456\n",
      "----\n",
      "Similarity between:\n",
      "  Paragraph 2: Zoos have animals like zebras and wolves.\n",
      "  Paragraph 3: I had a great day today.\n",
      "  Score: 0.5157\n",
      "----\n",
      "Similarity between:\n",
      "  Paragraph 2: Zoos have animals like zebras and wolves.\n",
      "  Paragraph 4: I really like animals a lot.\n",
      "  Score: 0.6322\n",
      "----\n",
      "Similarity between:\n",
      "  Paragraph 2: Zoos have animals like zebras and wolves.\n",
      "  Paragraph 5: Gibberish afadadf affafa afafa.\n",
      "  Score: 0.4816\n",
      "----\n",
      "Similarity between:\n",
      "  Paragraph 3: I had a great day today.\n",
      "  Paragraph 1: Dog and cat are common house pets.\n",
      "  Score: 0.5256\n",
      "----\n",
      "Similarity between:\n",
      "  Paragraph 3: I had a great day today.\n",
      "  Paragraph 2: Zoos have animals like zebras and wolves.\n",
      "  Score: 0.5157\n",
      "----\n",
      "Similarity between:\n",
      "  Paragraph 3: I had a great day today.\n",
      "  Paragraph 4: I really like animals a lot.\n",
      "  Score: 0.6537\n",
      "----\n",
      "Similarity between:\n",
      "  Paragraph 3: I had a great day today.\n",
      "  Paragraph 5: Gibberish afadadf affafa afafa.\n",
      "  Score: 0.3701\n",
      "----\n",
      "Similarity between:\n",
      "  Paragraph 4: I really like animals a lot.\n",
      "  Paragraph 1: Dog and cat are common house pets.\n",
      "  Score: 0.6068\n",
      "----\n",
      "Similarity between:\n",
      "  Paragraph 4: I really like animals a lot.\n",
      "  Paragraph 2: Zoos have animals like zebras and wolves.\n",
      "  Score: 0.6322\n",
      "----\n",
      "Similarity between:\n",
      "  Paragraph 4: I really like animals a lot.\n",
      "  Paragraph 3: I had a great day today.\n",
      "  Score: 0.6537\n",
      "----\n",
      "Similarity between:\n",
      "  Paragraph 4: I really like animals a lot.\n",
      "  Paragraph 5: Gibberish afadadf affafa afafa.\n",
      "  Score: 0.3803\n",
      "----\n",
      "Similarity between:\n",
      "  Paragraph 5: Gibberish afadadf affafa afafa.\n",
      "  Paragraph 1: Dog and cat are common house pets.\n",
      "  Score: 0.4532\n",
      "----\n",
      "Similarity between:\n",
      "  Paragraph 5: Gibberish afadadf affafa afafa.\n",
      "  Paragraph 2: Zoos have animals like zebras and wolves.\n",
      "  Score: 0.4816\n",
      "----\n",
      "Similarity between:\n",
      "  Paragraph 5: Gibberish afadadf affafa afafa.\n",
      "  Paragraph 3: I had a great day today.\n",
      "  Score: 0.3701\n",
      "----\n",
      "Similarity between:\n",
      "  Paragraph 5: Gibberish afadadf affafa afafa.\n",
      "  Paragraph 4: I really like animals a lot.\n",
      "  Score: 0.3803\n",
      "----\n"
     ]
    }
   ],
   "source": [
    "print(\"Similarity Matrix:\")\n",
    "for i in range(len(paragraphs)):\n",
    "    for j in range(len(paragraphs)):\n",
    "        if i != j:\n",
    "            print(f\"Similarity between:\")\n",
    "            print(f\"  Paragraph {i + 1}: {paragraphs[i]}\")\n",
    "            print(f\"  Paragraph {j + 1}: {paragraphs[j]}\")\n",
    "            print(f\"  Score: {similarity_matrix[i][j]:.4f}\")\n",
    "            print(\"----\")\n"
   ]
  },
  {
   "cell_type": "code",
   "execution_count": null,
   "metadata": {},
   "outputs": [],
   "source": []
  }
 ],
 "metadata": {
  "kernelspec": {
   "display_name": "Python 3",
   "language": "python",
   "name": "python3"
  },
  "language_info": {
   "codemirror_mode": {
    "name": "ipython",
    "version": 3
   },
   "file_extension": ".py",
   "mimetype": "text/x-python",
   "name": "python",
   "nbconvert_exporter": "python",
   "pygments_lexer": "ipython3",
   "version": "3.11.6"
  }
 },
 "nbformat": 4,
 "nbformat_minor": 2
}
